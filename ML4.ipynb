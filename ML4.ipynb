{
 "cells": [
  {
   "cell_type": "code",
   "execution_count": 24,
   "id": "bba0d581",
   "metadata": {},
   "outputs": [
    {
     "name": "stdout",
     "output_type": "stream",
     "text": [
      "Entropy of each attribute / feature:\n",
      "Age: 1.577\n",
      "Income: 1.557\n",
      "Student: 1.000\n",
      "Credit_Rating: 0.985\n",
      "First feature to be selected for constructing the decision tree:\n",
      "Age: 1.577\n"
     ]
    }
   ],
   "source": [
    "import numpy as np\n",
    "\n",
    "# Define attribute names\n",
    "attribute_names = [\"Age\", \"Income\", \"Student\", \"Credit_Rating\", \"Buys_Computer\"]\n",
    "\n",
    "data = np.array([\n",
    "    [\"<=30\", \"high\", \"no\", \"fair\", \"no\"],\n",
    "    [\"<=30\", \"high\", \"no\", \"excellent\", \"no\"],\n",
    "    [\"31-40\", \"high\", \"no\", \"fair\", \"yes\"],\n",
    "    [\">40\", \"medium\", \"no\", \"fair\", \"yes\"],\n",
    "    [\">40\", \"low\", \"yes\", \"fair\", \"yes\"],\n",
    "    [\">40\", \"low\", \"yes\", \"excellent\", \"no\"],\n",
    "    [\"31-40\", \"low\", \"yes\", \"excellent\", \"yes\"],\n",
    "    [\"<=30\", \"medium\", \"no\", \"fair\", \"no\"],\n",
    "    [\"<=30\", \"low\", \"yes\", \"fair\", \"yes\"],\n",
    "    [\">40\", \"medium\", \"yes\", \"fair\", \"yes\"],\n",
    "    [\"<=30\", \"medium\", \"yes\", \"excellent\", \"yes\"],\n",
    "    [\"31-40\", \"medium\", \"no\", \"excellent\", \"yes\"],\n",
    "    [\"31-40\", \"high\", \"yes\", \"fair\", \"yes\"],\n",
    "    [\">40\", \"medium\", \"no\", \"excellent\", \"no\"]\n",
    "])\n",
    "\n",
    "def entropy(data, column):\n",
    "    unique_values, counts = np.unique(data[:, column], return_counts=True)\n",
    "    probabilities = counts / len(data)\n",
    "    entropy = -np.sum(probabilities * np.log2(probabilities))\n",
    "    return entropy\n",
    "\n",
    "entropies = {}\n",
    "for column in range(data.shape[1] - 1):\n",
    "    entropies[attribute_names[column]] = entropy(data, column)\n",
    "\n",
    "first_feature = max(entropies.items(), key=lambda item: item[1])[0]\n",
    "\n",
    "print(\"Entropy of each attribute / feature:\")\n",
    "for attribute, entropy_val in entropies.items():\n",
    "    print(f\"{attribute}: {entropy_val:.3f}\")\n",
    "\n",
    "print(\"First feature to be selected for constructing the decision tree:\")\n",
    "print(f\"{first_feature}: {entropies[first_feature]:.3f}\")"
   ]
  },
  {
   "cell_type": "code",
   "execution_count": null,
   "id": "a30e4a94",
   "metadata": {},
   "outputs": [],
   "source": []
  }
 ],
 "metadata": {
  "kernelspec": {
   "display_name": "Python 3 (ipykernel)",
   "language": "python",
   "name": "python3"
  },
  "language_info": {
   "codemirror_mode": {
    "name": "ipython",
    "version": 3
   },
   "file_extension": ".py",
   "mimetype": "text/x-python",
   "name": "python",
   "nbconvert_exporter": "python",
   "pygments_lexer": "ipython3",
   "version": "3.11.4"
  }
 },
 "nbformat": 4,
 "nbformat_minor": 5
}
